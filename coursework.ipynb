{
 "cells": [
  {
   "cell_type": "code",
   "execution_count": 35,
   "metadata": {
    "collapsed": true,
    "pycharm": {
     "name": "#%%\n"
    }
   },
   "outputs": [],
   "source": [
    "from data_loader import DataLoader\n",
    "from constants import *\n",
    "from decision_tree_creator import DecisionTreeCreator\n",
    "from tree import *\n",
    "from evaluator import Evaluator\n"
   ]
  },
  {
   "cell_type": "code",
   "execution_count": 27,
   "metadata": {},
   "outputs": [
    {
     "data": {
      "text/plain": [
       "2000"
      ]
     },
     "execution_count": 27,
     "metadata": {},
     "output_type": "execute_result"
    }
   ],
   "source": [
    "len(np.loadtxt(clean_dataset))"
   ]
  },
  {
   "cell_type": "code",
   "execution_count": 28,
   "metadata": {},
   "outputs": [
    {
     "data": {
      "text/plain": [
       "array([[-57., -53., -50., ..., -83., -82.,   4.],\n",
       "       [-64., -56., -58., ..., -88., -84.,   1.],\n",
       "       [-44., -53., -51., ..., -84., -76.,   3.],\n",
       "       ...,\n",
       "       [-61., -62., -64., ..., -81., -90.,   1.],\n",
       "       [-60., -51., -59., ..., -81., -76.,   1.],\n",
       "       [-59., -52., -49., ..., -83., -81.,   4.]])"
      ]
     },
     "execution_count": 28,
     "metadata": {},
     "output_type": "execute_result"
    }
   ],
   "source": [
    "dl = DataLoader(clean_dataset)\n",
    "cross_val_sets = dl.get_cross_validation_arr()\n",
    "dl.dataset\n"
   ]
  },
  {
   "cell_type": "code",
   "execution_count": 29,
   "metadata": {},
   "outputs": [
    {
     "data": {
      "text/plain": [
       "1200"
      ]
     },
     "execution_count": 29,
     "metadata": {},
     "output_type": "execute_result"
    }
   ],
   "source": [
    "train, val, test = cross_val_sets[0]\n",
    "len(train)"
   ]
  },
  {
   "cell_type": "code",
   "execution_count": 32,
   "metadata": {},
   "outputs": [
    {
     "data": {
      "text/plain": [
       "12"
      ]
     },
     "execution_count": 32,
     "metadata": {},
     "output_type": "execute_result"
    }
   ],
   "source": [
    "dtc = DecisionTreeCreator()\n",
    "tree = dtc.learn(dl.dataset)\n",
    "tree.depth"
   ]
  },
  {
   "cell_type": "code",
   "execution_count": 37,
   "metadata": {},
   "outputs": [
    {
     "name": "stdout",
     "output_type": "stream",
     "text": [
      "confusion matrix: \n",
      "[[ 96.   0.   0.   0.]\n",
      " [  0. 106.   4.   0.]\n",
      " [  0.   4.  86.   0.]\n",
      " [  0.   0.   0. 104.]]\n",
      "accuracy: 0.98\n",
      "precision: [1.         0.96363636 0.95555556 1.        ]\n",
      "recall: [1.         0.96363636 0.95555556 1.        ]\n",
      "f1_measure: [1.         0.96363636 0.95555556 1.        ]\n"
     ]
    }
   ],
   "source": [
    "evaluator = Evaluator(test_data=test, tree=tree)\n",
    "evaluator.evaluate()"
   ]
  },
  {
   "cell_type": "code",
   "execution_count": null,
   "metadata": {},
   "outputs": [],
   "source": []
  }
 ],
 "metadata": {
  "kernelspec": {
   "display_name": "Python 3.10.6 ('ml')",
   "language": "python",
   "name": "python3"
  },
  "language_info": {
   "codemirror_mode": {
    "name": "ipython",
    "version": 3
   },
   "file_extension": ".py",
   "mimetype": "text/x-python",
   "name": "python",
   "nbconvert_exporter": "python",
   "pygments_lexer": "ipython3",
   "version": "3.10.6"
  },
  "vscode": {
   "interpreter": {
    "hash": "948ea4502a5144987765a031ebc825267ffd3c83e6747ef80fe0844c11b990a4"
   }
  }
 },
 "nbformat": 4,
 "nbformat_minor": 0
}
